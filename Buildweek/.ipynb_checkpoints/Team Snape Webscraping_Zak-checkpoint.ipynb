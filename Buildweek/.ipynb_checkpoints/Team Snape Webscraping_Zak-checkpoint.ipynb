{
 "cells": [
  {
   "cell_type": "code",
   "execution_count": 1,
   "metadata": {
    "id": "FZTcl05Y812T"
   },
   "outputs": [],
   "source": [
    "from bs4 import BeautifulSoup\n",
    "import urllib.request\n",
    "import csv\n"
   ]
  },
  {
   "cell_type": "code",
   "execution_count": 3,
   "metadata": {
    "id": "Sza7-tn2-GHO"
   },
   "outputs": [],
   "source": [
    "urlpage = 'https://www.goodreads.com/list/show/6.Best_Books_of_the_20th_Century'\n",
    "# query the website and return the html to the variable 'page'\n",
    "page = urllib.request.urlopen(urlpage)\n",
    "# parse the html using beautiful soup and store in variable 'soup'\n",
    "soup = BeautifulSoup(page, 'html.parser')"
   ]
  },
  {
   "cell_type": "code",
   "execution_count": 4,
   "metadata": {
    "id": "gDRbGyTO-KKY"
   },
   "outputs": [],
   "source": [
    "table = soup.find('table')"
   ]
  },
  {
   "cell_type": "code",
   "execution_count": null,
   "metadata": {
    "colab": {
     "base_uri": "https://localhost:8080/"
    },
    "id": "yh0XD3LD9Fej",
    "outputId": "9081d408-a943-488c-c9f4-b747acde32b0"
   },
   "outputs": [],
   "source": [
    "#Parse the html\n",
    "num_of_pages = []\n",
    "\n",
    "\n",
    "for book in table.find_all('a', class_='bookTitle', limit=1000):\n",
    "    url = 'https://www.goodreads.com' + book.get('href')\n",
    "    bookdetailspage = urllib.request.urlopen(url) \n",
    "    soup = BeautifulSoup(bookdetailspage, 'html.parser')\n",
    "    num_of_pages.append(soup.find('span', attrs={'itemprop':'numberOfPages'}).text)\n",
    "    \n",
    "num_of_pages[:5]"
   ]
  },
  {
   "cell_type": "code",
   "execution_count": null,
   "metadata": {},
   "outputs": [],
   "source": [
    "year_of_publish = []\n",
    "for book in table.find_all('a', class_='bookTitle', limit=1000):\n",
    "    url = 'https://www.goodreads.com' + book.get('href')\n",
    "    bookdetailspage = urllib.request.urlopen(url) \n",
    "    soup = BeautifulSoup(bookdetailspage, 'html.parser')\n",
    "    year_of_publish.append(soup.find('nobr', class_='greyText').text)"
   ]
  },
  {
   "cell_type": "code",
   "execution_count": null,
   "metadata": {
    "id": "G4wh6LGd9lQZ"
   },
   "outputs": [],
   "source": [
    "series_ = []\n",
    "for book in table.find_all('a', class_='bookTitle', limit=1000):\n",
    "    url = 'https://www.goodreads.com' + book.get('href')\n",
    "    bookdetailspage = urllib.request.urlopen(url) \n",
    "    soup = BeautifulSoup(bookdetailspage, 'html.parser')\n",
    "    if len(soup.find('h2', id='bookSeries').text)>10:\n",
    "        series_.append(True)\n",
    "    else:\n",
    "        series_.append(False)\n",
    "\n",
    "series_[:5]"
   ]
  }
 ],
 "metadata": {
  "colab": {
   "name": "Untitled0.ipynb",
   "provenance": []
  },
  "kernelspec": {
   "display_name": "Python 3",
   "language": "python",
   "name": "python3"
  },
  "language_info": {
   "codemirror_mode": {
    "name": "ipython",
    "version": 3
   },
   "file_extension": ".py",
   "mimetype": "text/x-python",
   "name": "python",
   "nbconvert_exporter": "python",
   "pygments_lexer": "ipython3",
   "version": "3.7.6"
  }
 },
 "nbformat": 4,
 "nbformat_minor": 1
}
