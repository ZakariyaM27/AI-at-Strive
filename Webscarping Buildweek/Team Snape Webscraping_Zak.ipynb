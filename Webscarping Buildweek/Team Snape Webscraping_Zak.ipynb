{
  "nbformat": 4,
  "nbformat_minor": 0,
  "metadata": {
    "colab": {
      "name": "Untitled0.ipynb",
      "provenance": []
    },
    "kernelspec": {
      "name": "python3",
      "display_name": "Python 3"
    }
  },
  "cells": [
    {
      "cell_type": "code",
      "metadata": {
        "id": "FZTcl05Y812T"
      },
      "source": [
        "from bs4 import BeautifulSoup\r\n",
        "import urllib.request\r\n",
        "import csv\r\n"
      ],
      "execution_count": 1,
      "outputs": []
    },
    {
      "cell_type": "code",
      "metadata": {
        "id": "Sza7-tn2-GHO"
      },
      "source": [
        "urlpage = 'https://www.goodreads.com/list/show/6.Best_Books_of_the_20th_Century'\r\n",
        "# query the website and return the html to the variable 'page'\r\n",
        "page = urllib.request.urlopen(urlpage)\r\n",
        "# parse the html using beautiful soup and store in variable 'soup'\r\n",
        "soup = BeautifulSoup(page, 'html.parser')"
      ],
      "execution_count": 4,
      "outputs": []
    },
    {
      "cell_type": "code",
      "metadata": {
        "id": "gDRbGyTO-KKY"
      },
      "source": [
        "table = soup.find('table')"
      ],
      "execution_count": 5,
      "outputs": []
    },
    {
      "cell_type": "code",
      "metadata": {
        "colab": {
          "base_uri": "https://localhost:8080/"
        },
        "id": "yh0XD3LD9Fej",
        "outputId": "9081d408-a943-488c-c9f4-b747acde32b0"
      },
      "source": [
        "#Parse the html\r\n",
        "num_of_pages = []\r\n",
        "\r\n",
        "\r\n",
        "for book in table.find_all('a', class_='bookTitle', limit=1000):\r\n",
        "    url = 'https://www.goodreads.com' + book.get('href')\r\n",
        "    bookdetailspage = urllib.request.urlopen(url) \r\n",
        "    soup = BeautifulSoup(bookdetailspage, 'html.parser')\r\n",
        "    num_of_pages.append(soup.find('span', attrs={'itemprop':'numberOfPages'}).text)\r\n",
        "    \r\n",
        "num_of_pages[:5]"
      ],
      "execution_count": 6,
      "outputs": [
        {
          "output_type": "execute_result",
          "data": {
            "text/plain": [
              "['324 pages', '237 pages', '309 pages', '200 pages', '141 pages']"
            ]
          },
          "metadata": {
            "tags": []
          },
          "execution_count": 6
        }
      ]
    },
    {
      "cell_type": "code",
      "metadata": {
        "id": "G4wh6LGd9lQZ"
      },
      "source": [
        "series_ = []\r\n",
        "for book in table.find_all('a', class_='bookTitle', limit=1000):\r\n",
        "    url = 'https://www.goodreads.com' + book.get('href')\r\n",
        "    bookdetailspage = urllib.request.urlopen(url) \r\n",
        "    soup = BeautifulSoup(bookdetailspage, 'html.parser')\r\n",
        "    series_.append(bool(soup.find('h2', id='bookSeries').text))\r\n",
        "\r\n",
        "series_[:5]"
      ],
      "execution_count": null,
      "outputs": []
    }
  ]
}