{
 "cells": [
  {
   "cell_type": "markdown",
   "metadata": {},
   "source": [
    "## Linear Algebra Quiz #2\n",
    "\n",
    "![title](./img/2_1.jpeg)\n",
    "\n",
    "We strongly suggest working with numpy :)"
   ]
  },
  {
   "cell_type": "code",
   "execution_count": 2,
   "metadata": {},
   "outputs": [],
   "source": [
    "#Do your imports here\n",
    "import numpy as np"
   ]
  },
  {
   "cell_type": "markdown",
   "metadata": {},
   "source": [
    "![title](./img/2_2.png)\n",
    "- Which vectors below define a plane spanned by a linear combination?"
   ]
  },
  {
   "cell_type": "code",
   "execution_count": 45,
   "metadata": {},
   "outputs": [
    {
     "data": {
      "text/plain": [
       "True"
      ]
     },
     "execution_count": 45,
     "metadata": {},
     "output_type": "execute_result"
    }
   ],
   "source": [
    "a = [2,2,2]\n",
    "c = [8,8,8]\n",
    "(np.array(c)%np.array(a) == np.zeros((1,3))).all()"
   ]
  },
  {
   "cell_type": "code",
   "execution_count": 25,
   "metadata": {},
   "outputs": [
    {
     "data": {
      "text/plain": [
       "False"
      ]
     },
     "execution_count": 25,
     "metadata": {},
     "output_type": "execute_result"
    }
   ],
   "source": [
    "def plane(a,b,c):\n",
    "    #returns false if the vectors do define a plane and returns which are those vectors if true\n",
    "    a = np.array(a)\n",
    "    b = np.array(b)\n",
    "    c = np.array(c)\n",
    "    if (a%b!=np.zeros((1,3))).all() and b%a!=0:\n",
    "        print('Vectors a and b define a plane.')   \n",
    "    if a%c!=0 and c%a!=0:\n",
    "        print('Vectors a and c define a plane.')\n",
    "    else:\n",
    "        return False\n",
    "#     if b%c!=0 and c%b!=0:\n",
    "#         print('Vectors b and c define a plane.')\n",
    "    \n",
    "\n",
    "plane([1,2,3],[2,2,2],[8,8,8])        \n",
    "        \n",
    "# Harder exercise\n",
    "\n",
    "# def complete_plane(#inputs):\n",
    "    \n",
    "#returns the first set of vectors to complete a plane, false otherwise"
   ]
  },
  {
   "cell_type": "markdown",
   "metadata": {},
   "source": [
    "![title](./img/2_3.png)\n",
    "- What is the solution for a and b?"
   ]
  },
  {
   "cell_type": "code",
   "execution_count": null,
   "metadata": {},
   "outputs": [],
   "source": [
    "# do you need a function for this? What is the most efficient way to solve it?"
   ]
  },
  {
   "cell_type": "markdown",
   "metadata": {},
   "source": [
    "![title](./img/2_4.png)\n",
    "- What is the solution for a and b?"
   ]
  },
  {
   "cell_type": "code",
   "execution_count": null,
   "metadata": {},
   "outputs": [],
   "source": [
    "# Idem. Do you need a function for this? What is the most efficient way to solve it?"
   ]
  }
 ],
 "metadata": {
  "kernelspec": {
   "display_name": "Python 3",
   "language": "python",
   "name": "python3"
  },
  "language_info": {
   "codemirror_mode": {
    "name": "ipython",
    "version": 3
   },
   "file_extension": ".py",
   "mimetype": "text/x-python",
   "name": "python",
   "nbconvert_exporter": "python",
   "pygments_lexer": "ipython3",
   "version": "3.7.6"
  }
 },
 "nbformat": 4,
 "nbformat_minor": 2
}
