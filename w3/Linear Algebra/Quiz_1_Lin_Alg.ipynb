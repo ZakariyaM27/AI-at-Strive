{
 "cells": [
  {
   "cell_type": "markdown",
   "metadata": {},
   "source": [
    "## Linear Algebra Quiz #1\n",
    "\n",
    "![title](./img/1_0.jpeg)\n",
    "\n",
    "We strongly suggest working with numpy :)"
   ]
  },
  {
   "cell_type": "code",
   "execution_count": 1,
   "metadata": {},
   "outputs": [],
   "source": [
    "#Do your imports here\n",
    "import numpy as np\n",
    "import math"
   ]
  },
  {
   "cell_type": "markdown",
   "metadata": {},
   "source": [
    "![title](./img/1_1.png)"
   ]
  },
  {
   "cell_type": "code",
   "execution_count": 2,
   "metadata": {},
   "outputs": [],
   "source": [
    "# type a function that given a 3_dimensional vector it is able to calculate its magnitude\n",
    "\n",
    "def magnitude_3(a,b,c):\n",
    "    a = np.array([a,b,c])\n",
    "    squares = 0\n",
    "    for i in a:\n",
    "        squares+=i**2\n",
    "    math.sqrt(squares)\n",
    "\n",
    "# type a function that given a n_dimensional vector it is able to calculate its magnitude\n",
    "# if you want to try this from python (not jupyter notebook) https://docs.python.org/3/library/argparse.html would be a good addition\n",
    "# if you are doing this from a jupyter notebook only, you can try to promt the user for an input  \n",
    "\n",
    "def magnitude_complete(*argv):\n",
    "    a = np.array([*argv])\n",
    "    squares = 0\n",
    "    for arg in argv:\n",
    "        squares += arg**2\n",
    "    return math.sqrt(squares)               \n",
    "                       "
   ]
  },
  {
   "cell_type": "markdown",
   "metadata": {},
   "source": [
    "uncomment the following line when you are ready to test"
   ]
  },
  {
   "cell_type": "code",
   "execution_count": 3,
   "metadata": {},
   "outputs": [
    {
     "data": {
      "text/plain": [
       "True"
      ]
     },
     "execution_count": 3,
     "metadata": {},
     "output_type": "execute_result"
    }
   ],
   "source": [
    "magnitude_complete(1) == 1.0\n",
    "magnitude_complete(1,2) >= 2.236\n",
    "magnitude_complete(1,2,3) >= 3.741\n",
    "magnitude_complete(1,2,3,4,5) >= 5.477\n",
    "magnitude_complete(1,2,3,4,5) >= 7.416"
   ]
  },
  {
   "cell_type": "markdown",
   "metadata": {},
   "source": [
    "![title](./img/1_2.png)"
   ]
  },
  {
   "cell_type": "code",
   "execution_count": 21,
   "metadata": {},
   "outputs": [
    {
     "data": {
      "text/plain": [
       "28"
      ]
     },
     "execution_count": 21,
     "metadata": {},
     "output_type": "execute_result"
    }
   ],
   "source": [
    "def magnitude_vectors(c, d):\n",
    "    if np.array(c).shape == np.array(d).shape:\n",
    "            x = c+d\n",
    "            return sum([i**2 for i in x])\n",
    "\n",
    "magnitude_vectors([1,2,3],[3,2,1])\n"
   ]
  },
  {
   "cell_type": "code",
   "execution_count": 12,
   "metadata": {},
   "outputs": [
    {
     "data": {
      "text/plain": [
       "(3,)"
      ]
     },
     "execution_count": 12,
     "metadata": {},
     "output_type": "execute_result"
    }
   ],
   "source": [
    "np.array([1,2,3]).shape"
   ]
  },
  {
   "cell_type": "code",
   "execution_count": null,
   "metadata": {},
   "outputs": [],
   "source": []
  },
  {
   "cell_type": "markdown",
   "metadata": {},
   "source": [
    "![title](./img/1_3.png)"
   ]
  },
  {
   "cell_type": "code",
   "execution_count": 22,
   "metadata": {},
   "outputs": [],
   "source": [
    "def add_vectors(u, v):\n",
    "#     \"\"\"\n",
    "#       >>> add_vectors([1, 0], [1, 1])\n",
    "#       [2, 1]\n",
    "#       >>> add_vectors([1, 2], [1, 4])\n",
    "#       [2, 6]\n",
    "#       >>> add_vectors([1, 2, 1], [1, 4, 3])\n",
    "#       [2, 6, 4]\n",
    "#       >>> add_vectors([11, 0, -4, 5], [2, -4, 17, 0])\n",
    "#       [13, -4, 13, 5]\n",
    "#       >>> a = [1, 2, 3]\n",
    "#       >>> b = [1, 1, 1]\n",
    "#       >>> add_vectors(a, b)\n",
    "#       [2, 3, 4]\n",
    "#       >>> a\n",
    "#       [1, 2, 3]\n",
    "#       >>> b\n",
    "#       [1, 1, 1]\n",
    "#     \"\"\"\n",
    "    sum_vector = []    \n",
    "    if len(u) == len(v):\n",
    "        for i in range(len(u)):\n",
    "            sum_vector.append(u[i]+v[i])\n",
    "        return sum_vector\n",
    "    else:\n",
    "        print('Vectors of different lengths cannot be added.')"
   ]
  },
  {
   "cell_type": "code",
   "execution_count": null,
   "metadata": {},
   "outputs": [],
   "source": [
    "def direction_vectors(a, b):\n",
    "    #checks that size is equal\n",
    "    x=add_vectors(a,b)[0]\n",
    "    y=add_vectors(a,b)[1]\n",
    "    return np.arctan(y/x)\n",
    "    #returns the magnitude\n",
    "    \n",
    "# or if you want to do it all in one batch:\n",
    "def magdir_vectors(a, b):\n",
    "    #checks that size is equal\n",
    "    \n",
    "    #returns the magnitude and direction in a nicely printed format \n",
    "    #\"The magnitude of a + b is X and the direction is Y\""
   ]
  },
  {
   "cell_type": "markdown",
   "metadata": {},
   "source": [
    "![title](./img/1_4.png)\n",
    "- What is the magnitude of αx⃗? \n",
    "- If α>0, will the direction of the resulting vector change?\n",
    "- If α<0, will the direction of the resulting vector change?\n",
    "- If −1<α<1, will ∥αx⃗∥  increase, decrease or stay the same?"
   ]
  },
  {
   "cell_type": "code",
   "execution_count": null,
   "metadata": {},
   "outputs": [],
   "source": [
    "def alpha_magnitude(alpha, b):\n",
    "    \n",
    "    #returns the resulting magnitude, if the direction has changed and what has happened to the vector"
   ]
  }
 ],
 "metadata": {
  "kernelspec": {
   "display_name": "Python 3",
   "language": "python",
   "name": "python3"
  },
  "language_info": {
   "codemirror_mode": {
    "name": "ipython",
    "version": 3
   },
   "file_extension": ".py",
   "mimetype": "text/x-python",
   "name": "python",
   "nbconvert_exporter": "python",
   "pygments_lexer": "ipython3",
   "version": "3.7.6"
  }
 },
 "nbformat": 4,
 "nbformat_minor": 2
}
